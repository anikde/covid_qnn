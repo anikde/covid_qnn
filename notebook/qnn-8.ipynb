{
 "cells": [
  {
   "cell_type": "code",
   "execution_count": 1,
   "metadata": {},
   "outputs": [
    {
     "name": "stdout",
     "output_type": "stream",
     "text": [
      "1 Physical GPUs, 1 Logical GPUs\n"
     ]
    },
    {
     "name": "stderr",
     "output_type": "stream",
     "text": [
      "2023-08-07 13:50:25.113595: I tensorflow/core/platform/cpu_feature_guard.cc:151] This TensorFlow binary is optimized with oneAPI Deep Neural Network Library (oneDNN) to use the following CPU instructions in performance-critical operations:  AVX2 AVX512F FMA\n",
      "To enable them in other operations, rebuild TensorFlow with the appropriate compiler flags.\n",
      "2023-08-07 13:50:25.690545: I tensorflow/core/common_runtime/gpu/gpu_device.cc:1525] Created device /job:localhost/replica:0/task:0/device:GPU:0 with 76382 MB memory:  -> device: 0, name: NVIDIA A100 80GB PCIe, pci bus id: 0000:ca:00.0, compute capability: 8.0\n"
     ]
    }
   ],
   "source": [
    "import os\n",
    "import tensorflow as tf\n",
    "\n",
    "gpus = tf.config.list_physical_devices('GPU')\n",
    "if gpus:\n",
    "  try:\n",
    "    # Currently, memory growth needs to be the same across GPUs\n",
    "    for gpu in gpus:\n",
    "      tf.config.experimental.set_memory_growth(gpu, True)\n",
    "    logical_gpus = tf.config.list_logical_devices('GPU')\n",
    "    print(len(gpus), \"Physical GPUs,\", len(logical_gpus), \"Logical GPUs\")\n",
    "  except RuntimeError as e:\n",
    "    # Memory growth must be set before GPUs have been initialized\n",
    "    print(e)"
   ]
  },
  {
   "cell_type": "code",
   "execution_count": 2,
   "metadata": {},
   "outputs": [
    {
     "name": "stdout",
     "output_type": "stream",
     "text": [
      "True\n"
     ]
    }
   ],
   "source": [
    "# import data\n",
    "import os\n",
    "import numpy as np\n",
    "gpath = \"/home/abhijit/anik/datasets/tf-qdata/all_preds/\"\n",
    "print(os.path.exists(gpath))\n",
    "X_train = np.load(gpath + \"xtrain.npy\")\n",
    "X_test = np.load(gpath + \"xtest.npy\")\n",
    "X_valid = np.load(gpath + \"xvalid.npy\")\n",
    "\n",
    "y_train = np.load(gpath + \"ytrain.npy\")\n",
    "y_test = np.load(gpath + \"ytest.npy\")\n",
    "y_valid = np.load(gpath + \"yvalid.npy\")"
   ]
  },
  {
   "cell_type": "code",
   "execution_count": 3,
   "metadata": {},
   "outputs": [],
   "source": [
    "import tensorflow as tf\n",
    "import tensorflow_quantum as tfq\n",
    "\n",
    "import cirq\n",
    "import sympy\n",
    "import numpy as np\n",
    "import seaborn as sns\n",
    "import collections\n",
    "from functools import reduce\n",
    "\n",
    "# visualization tools\n",
    "%matplotlib inline\n",
    "import matplotlib.pyplot as plt\n",
    "from cirq.contrib.svg import SVGCircuit\n",
    "from cirq.circuits import InsertStrategy"
   ]
  },
  {
   "cell_type": "code",
   "execution_count": 4,
   "metadata": {},
   "outputs": [],
   "source": [
    "def single_rot_rx(params, qubits):\n",
    "    # params = list(params)\n",
    "    ckt = [cirq.rx(params[i]).on(qubits[i]) for i in range(len(qubits))]\n",
    "    return ckt\n",
    "\n",
    "def single_rot_rz(params, qubits):\n",
    "    ckt = [cirq.ry(params[i]).on(qubits[i]) for i in range(len(qubits))]\n",
    "    return ckt"
   ]
  },
  {
   "cell_type": "code",
   "execution_count": 5,
   "metadata": {},
   "outputs": [],
   "source": [
    "def do_entangle(params, qubits, idx):\n",
    "    \n",
    "    nums = [i for i in range(len(qubits)) if i != idx]\n",
    "    # print(nums)\n",
    "    ckt = [cirq.rz(params[i]).on(qubits[nums[i]]).controlled_by(qubits[idx]) for i in range(len(nums))]\n",
    "    ckt += [cirq.rz(params[-1]).on(qubits[idx])]\n",
    "    return ckt\n",
    "\n",
    "def do_entangle_ry(params, qubits, idx):\n",
    "    \n",
    "    nums = [i for i in range(len(qubits)) if i != idx]\n",
    "    # print(nums)\n",
    "    ckt = [cirq.ry(params[i]).on(qubits[nums[i]]).controlled_by(qubits[idx]) for i in range(len(nums))]\n",
    "    ckt += [cirq.ry(params[-1]).on(qubits[idx])]\n",
    "    return ckt"
   ]
  },
  {
   "cell_type": "code",
   "execution_count": 6,
   "metadata": {},
   "outputs": [],
   "source": [
    "def return_circuit(qubits, n_layers=5):\n",
    "    n_qubits = len(qubits)\n",
    "    # params = sympy.symbols(f'T:{2*(n_layers+1)*n_qubits})')\n",
    "    params = sympy.symbols(f'T:{n_layers*504}')\n",
    "    params = np.asarray(params).reshape((n_layers, 42, n_qubits))\n",
    "\n",
    "    # params2 = sympy.symbols(f'T:180')\n",
    "    # params2 = np.asarray(params2)\n",
    "\n",
    "\n",
    "    # inputs = sympy.symbols(f'I:{n_layers*n_qubits}')\n",
    "    # inputs = np.asarray(inputs).reshape((n_layers, n_qubits))\n",
    "    ckt = cirq.Circuit()\n",
    "    for l in range(n_layers):\n",
    "        \n",
    "        ckt.append(single_rot_rx(params[l, 0, :], qubits), strategy=InsertStrategy.INLINE)\n",
    "        ckt.append(single_rot_rz(params[l, 1, :], qubits), strategy=InsertStrategy.INLINE)\n",
    "        start = 2\n",
    "        for j in range(11, -1, -1):\n",
    "            ckt.append(do_entangle(params[l, start,:], qubits, j), strategy=InsertStrategy.NEW)\n",
    "            start += 1 \n",
    "        # ckt.append(single_rot_rx(inputs[l, :], qubits), strategy=InsertStrategy.INLINE)\n",
    "        ckt.append(single_rot_rx(params[l, 14, :], qubits), strategy=InsertStrategy.INLINE)\n",
    "        ckt.append(single_rot_rz(params[l, 15, :], qubits), strategy=InsertStrategy.INLINE)\n",
    "        go = 16\n",
    "        for j in range(11, -1, -1):\n",
    "            ckt.append(do_entangle_ry(params[l, go,:], qubits, j), strategy=InsertStrategy.NEW)\n",
    "            go += 1 \n",
    "        ckt.append(single_rot_rx(params[l, 28, :], qubits), strategy=InsertStrategy.INLINE)\n",
    "        ckt.append(single_rot_rz(params[l, 29, :], qubits), strategy=InsertStrategy.INLINE)\n",
    "        s = 30\n",
    "        for j in range(11, -1, -1):\n",
    "            ckt.append(do_entangle_ry(params[l, s,:], qubits, j), strategy=InsertStrategy.NEW)\n",
    "            s += 1 \n",
    "    \n",
    "\n",
    "    # return ckt, list(params.flat), list(inputs.flat)\n",
    "    return ckt"
   ]
  },
  {
   "cell_type": "code",
   "execution_count": 7,
   "metadata": {},
   "outputs": [],
   "source": [
    "def cluster_state_circuit(bits):\n",
    "    \"\"\"Return a cluster state on the qubits in `bits`.\"\"\"\n",
    "    circuit = cirq.Circuit()\n",
    "    circuit.append(cirq.H.on_each(bits))\n",
    "    for this_bit, next_bit in zip(bits, bits[1:] + [bits[0]]):\n",
    "        circuit.append(cirq.CZ(this_bit, next_bit))\n",
    "    return circuit"
   ]
  },
  {
   "cell_type": "code",
   "execution_count": 8,
   "metadata": {},
   "outputs": [],
   "source": [
    "# Create our qubits and readout operators in Cirq.\n",
    "cluster_state_bits = cirq.GridQubit.rect(1, 12)\n",
    "readout_operators = [cirq.Z(q) for q in cluster_state_bits]"
   ]
  },
  {
   "cell_type": "code",
   "execution_count": 9,
   "metadata": {},
   "outputs": [],
   "source": [
    "# Build a sequential model enacting the logic in 1.3 of this notebook.\n",
    "# Here you are making the static cluster state prep as a part of the AddCircuit and the\n",
    "# \"quantum datapoints\" are coming in the form of excitation\n",
    "excitation_input = tf.keras.Input(shape=(), dtype=tf.dtypes.string)\n",
    "cluster_state = tfq.layers.AddCircuit()(\n",
    "    excitation_input, append=cluster_state_circuit(cluster_state_bits))\n",
    "\n",
    "quantum_model = tfq.layers.PQC(return_circuit(cluster_state_bits),\n",
    "                               readout_operators)(cluster_state)\n",
    "fc1 = tf.keras.layers.Dense(64, activation='relu')(quantum_model)\n",
    "drop1 = tf.keras.layers.Dropout(0.5)(fc1)\n",
    "output = tf.keras.layers.Dense(3, activation='softmax')(drop1)\n",
    "qcnn_model = tf.keras.Model(inputs=[excitation_input], outputs=[output])"
   ]
  },
  {
   "cell_type": "code",
   "execution_count": 10,
   "metadata": {},
   "outputs": [
    {
     "name": "stdout",
     "output_type": "stream",
     "text": [
      "You must install pydot (`pip install pydot`) and install graphviz (see instructions at https://graphviz.gitlab.io/download/) for plot_model/model_to_dot to work.\n"
     ]
    }
   ],
   "source": [
    "tf.keras.utils.plot_model(qcnn_model,\n",
    "                          show_shapes=True,\n",
    "                          show_layer_names=False,\n",
    "                          dpi=70)\n"
   ]
  },
  {
   "cell_type": "code",
   "execution_count": 11,
   "metadata": {},
   "outputs": [
    {
     "name": "stdout",
     "output_type": "stream",
     "text": [
      "Model: \"model\"\n",
      "_________________________________________________________________\n",
      " Layer (type)                Output Shape              Param #   \n",
      "=================================================================\n",
      " input_1 (InputLayer)        [(None,)]                 0         \n",
      "                                                                 \n",
      " add_circuit (AddCircuit)    (None,)                   0         \n",
      "                                                                 \n",
      " pqc (PQC)                   (None, 12)                2520      \n",
      "                                                                 \n",
      " dense (Dense)               (None, 64)                832       \n",
      "                                                                 \n",
      " dropout (Dropout)           (None, 64)                0         \n",
      "                                                                 \n",
      " dense_1 (Dense)             (None, 3)                 195       \n",
      "                                                                 \n",
      "=================================================================\n",
      "Total params: 3,547\n",
      "Trainable params: 3,547\n",
      "Non-trainable params: 0\n",
      "_________________________________________________________________\n"
     ]
    }
   ],
   "source": [
    "qcnn_model.summary()"
   ]
  },
  {
   "cell_type": "code",
   "execution_count": 12,
   "metadata": {},
   "outputs": [],
   "source": [
    "def encode_data(data):\n",
    "    qubits = cirq.GridQubit.rect(1, 12)\n",
    "    circuit = cirq.Circuit()\n",
    "\n",
    "    for i, value in enumerate(data):\n",
    "        circuit.append(cirq.ry(value).on(qubits[i]))\n",
    "\n",
    "    return circuit\n",
    "\n",
    "\n",
    "x_train_enc = [encode_data(x) for x in X_train]\n",
    "x_test_enc = [encode_data(x) for x in X_test]\n",
    "x_valid_enc = [encode_data(x) for x in X_valid]"
   ]
  },
  {
   "cell_type": "code",
   "execution_count": 13,
   "metadata": {},
   "outputs": [],
   "source": [
    "x_train_cirq = tfq.convert_to_tensor(x_train_enc)\n",
    "x_valid_cirq = tfq.convert_to_tensor(x_valid_enc)\n",
    "x_test_cirq = tfq.convert_to_tensor(x_test_enc)"
   ]
  },
  {
   "cell_type": "code",
   "execution_count": 14,
   "metadata": {},
   "outputs": [],
   "source": [
    "qcnn_model.compile(\n",
    "    loss=tf.keras.losses.CategoricalCrossentropy(from_logits=False),\n",
    "    optimizer=tf.keras.optimizers.Adam(learning_rate=0.001),\n",
    "    metrics=[tf.keras.metrics.CategoricalAccuracy()])"
   ]
  },
  {
   "cell_type": "code",
   "execution_count": 15,
   "metadata": {},
   "outputs": [],
   "source": [
    "early_stop = tf.keras.callbacks.EarlyStopping(monitor='val_loss', patience=6,\n",
    "                                            restore_best_weights=True,\n",
    "                                            mode='auto')"
   ]
  },
  {
   "cell_type": "code",
   "execution_count": 16,
   "metadata": {},
   "outputs": [
    {
     "name": "stdout",
     "output_type": "stream",
     "text": [
      "Epoch 1/200\n"
     ]
    },
    {
     "name": "stderr",
     "output_type": "stream",
     "text": [
      "2023-08-02 10:52:22.597259: I tensorflow/stream_executor/cuda/cuda_blas.cc:1786] TensorFloat-32 will be used for the matrix multiplication. This will only be logged once.\n"
     ]
    },
    {
     "name": "stdout",
     "output_type": "stream",
     "text": [
      "37/37 [==============================] - 373s 10s/step - loss: 1.0095 - categorical_accuracy: 0.6499 - val_loss: 0.8880 - val_categorical_accuracy: 0.6640\n",
      "Epoch 2/200\n",
      "37/37 [==============================] - 340s 9s/step - loss: 0.7805 - categorical_accuracy: 0.6647 - val_loss: 0.6748 - val_categorical_accuracy: 0.6640\n",
      "Epoch 3/200\n",
      "37/37 [==============================] - 342s 9s/step - loss: 0.5768 - categorical_accuracy: 0.7597 - val_loss: 0.4966 - val_categorical_accuracy: 0.8320\n",
      "Epoch 4/200\n",
      "37/37 [==============================] - 341s 9s/step - loss: 0.4053 - categorical_accuracy: 0.8861 - val_loss: 0.3658 - val_categorical_accuracy: 0.8780\n",
      "Epoch 5/200\n",
      "37/37 [==============================] - 338s 9s/step - loss: 0.2864 - categorical_accuracy: 0.9005 - val_loss: 0.2845 - val_categorical_accuracy: 0.8780\n",
      "Epoch 6/200\n",
      "37/37 [==============================] - 340s 9s/step - loss: 0.2058 - categorical_accuracy: 0.9438 - val_loss: 0.2214 - val_categorical_accuracy: 0.9540\n",
      "Epoch 7/200\n",
      "37/37 [==============================] - 334s 9s/step - loss: 0.1412 - categorical_accuracy: 0.9858 - val_loss: 0.1757 - val_categorical_accuracy: 0.9640\n",
      "Epoch 8/200\n",
      "37/37 [==============================] - 331s 9s/step - loss: 0.0977 - categorical_accuracy: 0.9912 - val_loss: 0.1486 - val_categorical_accuracy: 0.9700\n",
      "Epoch 9/200\n",
      "37/37 [==============================] - 335s 9s/step - loss: 0.0711 - categorical_accuracy: 0.9938 - val_loss: 0.1340 - val_categorical_accuracy: 0.9700\n",
      "Epoch 10/200\n",
      "37/37 [==============================] - 335s 9s/step - loss: 0.0521 - categorical_accuracy: 0.9961 - val_loss: 0.1279 - val_categorical_accuracy: 0.9700\n",
      "Epoch 11/200\n",
      "37/37 [==============================] - 328s 9s/step - loss: 0.0431 - categorical_accuracy: 0.9948 - val_loss: 0.1244 - val_categorical_accuracy: 0.9700\n",
      "Epoch 12/200\n",
      "37/37 [==============================] - 328s 9s/step - loss: 0.0375 - categorical_accuracy: 0.9961 - val_loss: 0.1254 - val_categorical_accuracy: 0.9700\n",
      "Epoch 13/200\n",
      "37/37 [==============================] - 332s 9s/step - loss: 0.0311 - categorical_accuracy: 0.9966 - val_loss: 0.1241 - val_categorical_accuracy: 0.9680\n",
      "Epoch 14/200\n",
      "37/37 [==============================] - 333s 9s/step - loss: 0.0286 - categorical_accuracy: 0.9972 - val_loss: 0.1284 - val_categorical_accuracy: 0.9700\n",
      "Epoch 15/200\n",
      "37/37 [==============================] - 331s 9s/step - loss: 0.0261 - categorical_accuracy: 0.9961 - val_loss: 0.1289 - val_categorical_accuracy: 0.9700\n",
      "Epoch 16/200\n",
      "37/37 [==============================] - 328s 9s/step - loss: 0.0231 - categorical_accuracy: 0.9966 - val_loss: 0.1316 - val_categorical_accuracy: 0.9700\n",
      "Epoch 17/200\n",
      "37/37 [==============================] - 332s 9s/step - loss: 0.0206 - categorical_accuracy: 0.9972 - val_loss: 0.1357 - val_categorical_accuracy: 0.9700\n",
      "Epoch 18/200\n",
      "37/37 [==============================] - 332s 9s/step - loss: 0.0176 - categorical_accuracy: 0.9972 - val_loss: 0.1392 - val_categorical_accuracy: 0.9700\n",
      "Epoch 19/200\n",
      "37/37 [==============================] - 340s 9s/step - loss: 0.0158 - categorical_accuracy: 0.9985 - val_loss: 0.1382 - val_categorical_accuracy: 0.9700\n"
     ]
    }
   ],
   "source": [
    "history = qcnn_model.fit(x_train_cirq,\n",
    "                    y_train,\n",
    "                    batch_size = 128,\n",
    "                    epochs = 200,\n",
    "                    verbose = 1,\n",
    "                    validation_data = (x_valid_cirq, y_valid),\n",
    "                    callbacks = [early_stop])"
   ]
  },
  {
   "cell_type": "code",
   "execution_count": 17,
   "metadata": {},
   "outputs": [
    {
     "name": "stdout",
     "output_type": "stream",
     "text": [
      "Performance parameters and graph for hybrid-qnn\n",
      "Accuracy - Train: 0.998, Test: 0.963 \n",
      "Loss - Train: 0.016, Test: 0.162 \n",
      "\n"
     ]
    },
    {
     "data": {
      "image/png": "[encoded data removed]",
      "text/plain": [
       "<Figure size 640x480 with 1 Axes>"
      ]
     },
     "metadata": {},
     "output_type": "display_data"
    },
    {
     "data": {
      "image/png": "[encoded data removed]",
      "text/plain": [
       "<Figure size 640x480 with 1 Axes>"
      ]
     },
     "metadata": {},
     "output_type": "display_data"
    }
   ],
   "source": [
    "import matplotlib.pyplot as plt\n",
    "\n",
    "def evaluate_and_plot(model, history, name, flag=False):\n",
    "    print(f\"Performance parameters and graph for {name}\")\n",
    "    # evaluate the model\n",
    "\n",
    "    train_loss, train_acc =  model.evaluate(x_train_cirq, y_train, verbose=0)\n",
    "    test_loss, test_acc = model.evaluate(x_test_cirq, y_test, verbose=0)\n",
    "    print('Accuracy - Train: %.3f, Test: %.3f ' % (train_acc, test_acc))\n",
    "    print('Loss - Train: %.3f, Test: %.3f \\n' % (train_loss, test_loss))\n",
    "    # learning curves of model accuracy\n",
    "    acc = history.history['categorical_accuracy']\n",
    "    val_acc = history.history['val_categorical_accuracy']\n",
    "    loss = history.history['loss']\n",
    "    val_loss = history.history['val_loss']\n",
    "\n",
    "    epochs = range(1, len(acc) + 1)\n",
    "\n",
    "    plt.plot(epochs, acc, \"darkorange\", label='Training acc')\n",
    "    plt.plot(epochs, val_acc, \"deepskyblue\", label='Validation acc')\n",
    "    plt.title(f'{name} - Training and validation accuracy')\n",
    "    plt.xlabel(\"epochs\")\n",
    "    plt.ylabel(\"accuracy\")\n",
    "    plt.legend()\n",
    "    plt.show()\n",
    "\n",
    "    plt.plot(epochs, loss, 'darkorange', label='Training loss')\n",
    "    plt.plot(epochs, val_loss, 'deepskyblue', label='Validation loss')\n",
    "    plt.title(f'{name} - Training and validation loss')\n",
    "    plt.xlabel(\"epochs\")\n",
    "    plt.ylabel(\"cross entropy loss\")\n",
    "    plt.legend()\n",
    "    plt.show()\n",
    "\n",
    "evaluate_and_plot(qcnn_model, history, \"hybrid-qnn\")"
   ]
  }
 ],
 "metadata": {
  "kernelspec": {
   "display_name": "tfq",
   "language": "python",
   "name": "python3"
  },
  "language_info": {
   "codemirror_mode": {
    "name": "ipython",
    "version": 3
   },
   "file_extension": ".py",
   "mimetype": "text/x-python",
   "name": "python",
   "nbconvert_exporter": "python",
   "pygments_lexer": "ipython3",
   "version": "3.9.16"
  },
  "orig_nbformat": 4
 },
 "nbformat": 4,
 "nbformat_minor": 2
}
